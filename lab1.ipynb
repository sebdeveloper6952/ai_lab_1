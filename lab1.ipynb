{
 "cells": [
  {
   "cell_type": "code",
   "execution_count": 1,
   "metadata": {},
   "outputs": [],
   "source": [
    "import csv\n",
    "import numpy as np\n",
    "import matplotlib.pyplot as plt"
   ]
  },
  {
   "cell_type": "code",
   "execution_count": 11,
   "metadata": {},
   "outputs": [],
   "source": [
    "data = []\n",
    "with open('Admission_Predict.csv') as csv_file:\n",
    "    csv_reader = csv.reader(csv_file, delimiter=',')\n",
    "    line_count = 0\n",
    "    for row in csv_reader:\n",
    "        if line_count == 0:\n",
    "            line_count += 1\n",
    "        else:\n",
    "            data.append(row)"
   ]
  },
  {
   "cell_type": "code",
   "execution_count": 12,
   "metadata": {},
   "outputs": [],
   "source": [
    "data = np.array(data, dtype='float64')"
   ]
  },
  {
   "cell_type": "markdown",
   "metadata": {},
   "source": [
    "### Definicion de Tamaños de Entrenamiento, Cross Validation, y Test"
   ]
  },
  {
   "cell_type": "code",
   "execution_count": 13,
   "metadata": {},
   "outputs": [],
   "source": [
    "# TODO: shuffle array\n",
    "split_data = np.split(data, [300, 375, 400])\n",
    "\n",
    "training_data = split_data[0]\n",
    "cross_validation_data = split_data[1]\n",
    "test_data = split_data[2]"
   ]
  },
  {
   "cell_type": "markdown",
   "metadata": {},
   "source": [
    "### Escoger Columnas que Deseamos\n",
    "#### Eliminamos: SerialNo, UniversityRating, Research"
   ]
  },
  {
   "cell_type": "code",
   "execution_count": 14,
   "metadata": {},
   "outputs": [],
   "source": [
    "#data = np.delete(data, 0, 1)\n",
    "#data = np.delete(data, 2, 1)\n",
    "#data = np.delete(data, 5, 1)\n",
    "#data\n",
    "\n",
    "# escoger 6ta columna\n",
    "training_data = np.delete(training_data, 0, 1)\n",
    "training_data = np.delete(training_data, 0, 1)\n",
    "training_data = np.delete(training_data, 0, 1)\n",
    "training_data = np.delete(training_data, 0, 1)\n",
    "training_data = np.delete(training_data, 0, 1)\n",
    "training_data = np.delete(training_data, 0, 1)\n",
    "training_data = np.delete(training_data, 1, 1)"
   ]
  },
  {
   "cell_type": "code",
   "execution_count": 15,
   "metadata": {},
   "outputs": [
    {
     "data": {
      "text/plain": [
       "9.65"
      ]
     },
     "execution_count": 15,
     "metadata": {},
     "output_type": "execute_result"
    }
   ],
   "source": [
    "X = training_data[:, 0]\n",
    "X[0]"
   ]
  },
  {
   "cell_type": "code",
   "execution_count": 16,
   "metadata": {},
   "outputs": [
    {
     "data": {
      "text/plain": [
       "0.92"
      ]
     },
     "execution_count": 16,
     "metadata": {},
     "output_type": "execute_result"
    }
   ],
   "source": [
    "y = training_data[:, 1]\n",
    "y[0]"
   ]
  },
  {
   "cell_type": "code",
   "execution_count": 17,
   "metadata": {},
   "outputs": [
    {
     "data": {
      "text/plain": [
       "<matplotlib.collections.PathCollection at 0x1034f9dd0>"
      ]
     },
     "execution_count": 17,
     "metadata": {},
     "output_type": "execute_result"
    },
    {
     "data": {
      "image/png": "[encoded data removed]",
      "text/plain": [
       "<Figure size 432x288 with 1 Axes>"
      ]
     },
     "metadata": {
      "needs_background": "light"
     },
     "output_type": "display_data"
    }
   ],
   "source": [
    "# x vs probability of admission\n",
    "plt.scatter(X, y)"
   ]
  },
  {
   "cell_type": "code",
   "execution_count": 18,
   "metadata": {},
   "outputs": [
    {
     "data": {
      "text/plain": [
       "(300, 1)"
      ]
     },
     "execution_count": 18,
     "metadata": {},
     "output_type": "execute_result"
    }
   ],
   "source": [
    "y = y.reshape(len(y), 1)\n",
    "y.shape"
   ]
  },
  {
   "cell_type": "code",
   "execution_count": 19,
   "metadata": {},
   "outputs": [
    {
     "data": {
      "text/plain": [
       "array([1.  , 9.65])"
      ]
     },
     "execution_count": 19,
     "metadata": {},
     "output_type": "execute_result"
    }
   ],
   "source": [
    "X = np.vstack((np.ones(X.shape[0]), X)).T\n",
    "X.shape\n",
    "X[0]"
   ]
  },
  {
   "cell_type": "markdown",
   "metadata": {},
   "source": [
    "### Funciones de Regresion Lineal"
   ]
  },
  {
   "cell_type": "code",
   "execution_count": 20,
   "metadata": {},
   "outputs": [],
   "source": [
    "def linear_cost(X, y, theta):\n",
    "    m, _ = X.shape\n",
    "    h = np.matmul(X, theta)\n",
    "    sq = (y - h) ** 2\n",
    "    return sq.sum() / (2 * m)\n",
    "\n",
    "def linear_cost_derivate(X, y, theta):\n",
    "    h = np.matmul(X, theta)\n",
    "    m, _ = X.shape\n",
    "    return np.matmul((h - y).T, X).T / m\n",
    "\n",
    "def gradient_descent(\n",
    "        X,\n",
    "        y,\n",
    "        theta_0,\n",
    "        cost,\n",
    "        cost_derivate,\n",
    "        alpha=0.01,\n",
    "        treshold=0.0001,\n",
    "        max_iter=10000):\n",
    "    theta, i = theta_0, 0\n",
    "    costs = []\n",
    "    gradient_norms = []\n",
    "    while np.linalg.norm(cost_derivate(X, y, theta)) > treshold and i < max_iter:\n",
    "        theta -= alpha * cost_derivate(X, y, theta)\n",
    "        i += 1\n",
    "        costs.append(cost(X, y, theta))\n",
    "        gradient_norms.append(cost_derivate(X, y, theta))\n",
    "    return theta, costs, gradient_norms"
   ]
  },
  {
   "cell_type": "code",
   "execution_count": 21,
   "metadata": {},
   "outputs": [
    {
     "data": {
      "text/plain": [
       "array([[0.20483184],\n",
       "       [0.53753271]])"
      ]
     },
     "execution_count": 21,
     "metadata": {},
     "output_type": "execute_result"
    }
   ],
   "source": [
    "theta_0 = np.random.rand(X.shape[1], 1)\n",
    "#theta_0.shape\n",
    "theta_0"
   ]
  },
  {
   "cell_type": "markdown",
   "metadata": {},
   "source": [
    "### Ejecutar descenso de gradiente para encontrar nuestros coeficientes (theta)"
   ]
  },
  {
   "cell_type": "code",
   "execution_count": 27,
   "metadata": {},
   "outputs": [
    {
     "name": "stdout",
     "output_type": "stream",
     "text": [
      "Valores de Teta: [[-0.86728624]\n",
      " [ 0.18499406]]\n"
     ]
    }
   ],
   "source": [
    "theta, costs, gradient_norms = gradient_descent(\n",
    "    X,\n",
    "    y,\n",
    "    theta_0,\n",
    "    linear_cost,\n",
    "    linear_cost_derivate,\n",
    "    alpha=0.01,\n",
    "    treshold=0.001,\n",
    "    max_iter=100000\n",
    ")\n",
    "\n",
    "print ('Valores de Teta:', theta)"
   ]
  },
  {
   "cell_type": "markdown",
   "metadata": {},
   "source": [
    "### Gráfica de Codo"
   ]
  },
  {
   "cell_type": "markdown",
   "metadata": {},
   "source": [
    "### Gráfica de Modelo de Regresión Lineal"
   ]
  },
  {
   "cell_type": "code",
   "execution_count": 28,
   "metadata": {},
   "outputs": [
    {
     "data": {
      "image/png": "[encoded data removed]",
      "text/plain": [
       "<Figure size 432x288 with 1 Axes>"
      ]
     },
     "metadata": {
      "needs_background": "light"
     },
     "output_type": "display_data"
    }
   ],
   "source": [
    "plt.scatter(X[:, 1], y)\n",
    "plt.plot(X[:, 1], np.matmul(X, theta), color='red')\n",
    "plt.show()"
   ]
  },
  {
   "cell_type": "code",
   "execution_count": null,
   "metadata": {},
   "outputs": [],
   "source": []
  }
 ],
 "metadata": {
  "kernelspec": {
   "display_name": "Python 3",
   "language": "python",
   "name": "python3"
  },
  "language_info": {
   "codemirror_mode": {
    "name": "ipython",
    "version": 3
   },
   "file_extension": ".py",
   "mimetype": "text/x-python",
   "name": "python",
   "nbconvert_exporter": "python",
   "pygments_lexer": "ipython3",
   "version": "3.7.5"
  }
 },
 "nbformat": 4,
 "nbformat_minor": 4
}
